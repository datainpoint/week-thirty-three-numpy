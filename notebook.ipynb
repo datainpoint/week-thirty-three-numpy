{
 "cells": [
  {
   "cell_type": "markdown",
   "id": "bb44fef8",
   "metadata": {},
   "source": [
    "# 約維安計畫：NumPy\n",
    "\n",
    "> 第三十三週\n",
    "\n",
    "![](https://github.com/numpy/numpy/blob/b8a43cb809edd754044af4aadfb9295915333b98/branding/logo/primary/numpylogo.png?raw=true)\n",
    "\n",
    "來源：<https://github.com/numpy/numpy/blob/b8a43cb809edd754044af4aadfb9295915333b98/branding/logo/primary/numpylogo.png>"
   ]
  },
  {
   "cell_type": "markdown",
   "id": "cd50a12c",
   "metadata": {},
   "source": [
    "## 什麼是 NumPy\n",
    "\n",
    "NumPy 是 Numeric Python(or Numerical Python)的簡稱，是 Python 最重要的資料科學模組之一。NumPy 創造了 ndarray 的資料結構類別以及大量的通用函數與聚合函數，讓 Python 使用者能夠對進行快速的數值計算、使用統計函數、進行線性代數運算以及操作隨機的模擬任務等。NumPy 的前身為兩個模組，都是在 1990 年代中期所誕生的 Numeric 與 Numarray 模組，NumPy 於 2005 年集兩者之大成問世。對 NumPy 模組的發展歷史有興趣的讀者可以進一步參考 [Array Programming with NumPy](https://www.nature.com/articles/s41586-020-2649-2) 以及 [NumPy - Wikipedia](https://en.wikipedia.org/wiki/NumPy)。\n",
    "\n",
    "## 安裝與載入 NumPy\n",
    "\n",
    "NumPy 的安裝可以透過 pip 或者 conda，如果讀者的 Python 是從 Python.org 下載的就直接透過 pip 安裝，假如是約維安計畫的成員，Python 應該是 Miniconda 版本，那麼建議可以透過 conda 安裝。\n",
    "\n",
    "```bash\n",
    "$ pip install numpy==MAJOR.MINOR.PATCH\n",
    "$ conda install numpy==MAJOR.MINOR.PATCH\n",
    "```\n",
    "\n",
    "如果希望從既有的 NumPy 版本更新升級，可以在 install 指令之後加上 -U 或 --update-all 參數。\n",
    "\n",
    "```bash\n",
    "$ pip install -U numpy==MAJOR.MINOR.PATCH\n",
    "$ conda install -c conda-forge --update-deps numpy==MAJOR.MINOR.PATCH\n",
    "```\n",
    "\n",
    "官方文件建議載入模組的所有功能並且縮寫為 np。"
   ]
  },
  {
   "cell_type": "code",
   "execution_count": 1,
   "id": "b36a2465",
   "metadata": {},
   "outputs": [],
   "source": [
    "import numpy as np"
   ]
  },
  {
   "cell_type": "markdown",
   "id": "ba9d9b31",
   "metadata": {},
   "source": [
    "利用兩個模組內建屬性檢視 NumPy 的安裝版本與路徑。"
   ]
  },
  {
   "cell_type": "code",
   "execution_count": 2,
   "id": "76b972d5",
   "metadata": {},
   "outputs": [
    {
     "name": "stdout",
     "output_type": "stream",
     "text": [
      "1.24.0\n",
      "/Users/kuoyaojen/opt/miniconda3/lib/python3.9/site-packages/numpy/__init__.py\n"
     ]
    }
   ],
   "source": [
    "print(np.__version__)\n",
    "print(np.__file__)"
   ]
  },
  {
   "cell_type": "markdown",
   "id": "14a541e1",
   "metadata": {},
   "source": [
    "## 怎樣學好 NumPy\n",
    "\n",
    "學好 NumPy 的關鍵是理解其核心功能以及主要應用場景：\n",
    "\n",
    "- 如何使用 `ndarray` 來進行數值操作。\n",
    "- 如何使用 NumPy 定義的函數對 `ndarray` 進行數值運算。\n",
    "- 如何應用 ndarray 於向量、矩陣以及張量的操作及運算。\n",
    "- ndarray 是其他資料科學模組 Pandas、Matplotlib 與 Scikit-Learn 的基石。\n",
    "\n",
    "## 如何創造 ndarray\n",
    "\n",
    "常見兩種創造 ndarray 的方式有：從既有的 list 創造或者利用函數創造。"
   ]
  },
  {
   "cell_type": "code",
   "execution_count": 3,
   "id": "23c4f27d",
   "metadata": {},
   "outputs": [
    {
     "name": "stdout",
     "output_type": "stream",
     "text": [
      "[ 2  3  5  7 11]\n",
      "<class 'numpy.ndarray'>\n"
     ]
    }
   ],
   "source": [
    "# Create ndarray from a list\n",
    "prime_list = [2, 3, 5, 7, 11]\n",
    "prime_array = np.array(prime_list)\n",
    "print(prime_array)\n",
    "print(type(prime_array))"
   ]
  },
  {
   "cell_type": "markdown",
   "id": "114822a6",
   "metadata": {},
   "source": [
    "利用 NumPy 定義的函數可以創造出內容元素相同、數列型態以及具備特定分配的 `ndarray`。"
   ]
  },
  {
   "cell_type": "code",
   "execution_count": 4,
   "id": "3e61b7f8",
   "metadata": {},
   "outputs": [
    {
     "name": "stdout",
     "output_type": "stream",
     "text": [
      "[0 0 0 0 0]\n",
      "[1. 1. 1. 1. 1.]\n",
      "[6 6 6 6 6]\n",
      "[1 3 5 7 9]\n",
      "[1 3 5 7 9]\n",
      "[0.00763835 0.52385638 0.48106282 ... 0.43986744 0.13202048 0.49098486]\n",
      "[ 0.68385324 -1.30352168 -0.5402686  ...  0.91233941  0.72599303\n",
      " -1.16047434]\n",
      "[6 4 3 ... 3 5 6]\n"
     ]
    }
   ],
   "source": [
    "# Create ndarray with identical elements\n",
    "print(np.zeros(5, dtype=int))\n",
    "print(np.ones(5, dtype=float))\n",
    "print(np.full(5, 6))\n",
    "# Create ndarray as a sequence\n",
    "print(np.arange(1, 11, 2))\n",
    "print(np.linspace(1, 9, 5, dtype=int))\n",
    "# Create ndarray with a specific distribution\n",
    "m = 10000\n",
    "uniform_array = np.random.random(m)\n",
    "normal_array = np.random.normal(0, 1, m)\n",
    "randint_array = np.random.randint(1, 7, size=m)\n",
    "print(uniform_array)\n",
    "print(normal_array)\n",
    "print(randint_array)"
   ]
  },
  {
   "cell_type": "markdown",
   "id": "ba6a5e35",
   "metadata": {},
   "source": [
    "## 常用的 `ndarray` 屬性\n",
    "\n",
    "常用的 `ndarray` 屬性有四個，分別是：\n",
    "\n",
    "1. `ndarray.ndim` 維度數。\n",
    "2. `ndarray.shape` 外型。\n",
    "3. `ndarray.size` 元素個數。\n",
    "4. `ndarray.dtype` 資料類別。"
   ]
  },
  {
   "cell_type": "code",
   "execution_count": 5,
   "id": "b6dcdfa1",
   "metadata": {},
   "outputs": [
    {
     "name": "stdout",
     "output_type": "stream",
     "text": [
      "1\n",
      "(5,)\n",
      "5\n",
      "int64\n"
     ]
    }
   ],
   "source": [
    "print(prime_array.ndim)\n",
    "print(prime_array.shape)\n",
    "print(prime_array.size)\n",
    "print(prime_array.dtype)"
   ]
  },
  {
   "cell_type": "markdown",
   "id": "3544bdaf",
   "metadata": {},
   "source": [
    "## 從 `ndarray` 中擷取元素、片段的方式\n",
    "\n",
    "利用與 `list` 相同的 indexing/slicing 語法。"
   ]
  },
  {
   "cell_type": "code",
   "execution_count": 6,
   "id": "bd4e0070",
   "metadata": {},
   "outputs": [
    {
     "name": "stdout",
     "output_type": "stream",
     "text": [
      "2\n",
      "[2 3 5]\n"
     ]
    }
   ],
   "source": [
    "print(prime_array[0]) # indexing\n",
    "print(prime_array[0:3:1]) # slicing"
   ]
  },
  {
   "cell_type": "markdown",
   "id": "ce083741",
   "metadata": {},
   "source": [
    "利用 `ndarray` 的特性，在中括號使用多個索引取得指定位置的元素。"
   ]
  },
  {
   "cell_type": "code",
   "execution_count": 7,
   "id": "243bc0a5",
   "metadata": {},
   "outputs": [
    {
     "name": "stdout",
     "output_type": "stream",
     "text": [
      "66\n"
     ]
    }
   ],
   "source": [
    "matrix = np.array([[5, 5],\n",
    "                   [6, 6],\n",
    "                   [55, 66]])\n",
    "print(matrix[2, 1])"
   ]
  },
  {
   "cell_type": "markdown",
   "id": "eabb3089",
   "metadata": {},
   "source": [
    "利用 `ndarray` 的特性，能夠以 Fancy indexing 或 Boolean indexing 的方式取得指定位置、符合指定條件的元素。Fancy indexing（華麗索引？）指的是以一個 `list` 決定要取得哪些位置的元素，Boolean indexing 指的是以一個外型相同、充滿布林值的 `ndarray` 來取得對應位置為 `True` 的元素。"
   ]
  },
  {
   "cell_type": "code",
   "execution_count": 8,
   "id": "937cf3c7",
   "metadata": {},
   "outputs": [
    {
     "name": "stdout",
     "output_type": "stream",
     "text": [
      "[ 2  3 11]\n",
      "[False  True  True  True  True]\n",
      "[ 3  5  7 11]\n"
     ]
    }
   ],
   "source": [
    "# Fancy indexing\n",
    "print(prime_array[[0, 1, 4]])\n",
    "# Boolean indexing\n",
    "print(prime_array % 2 == 1)\n",
    "print(prime_array[prime_array % 2 == 1])"
   ]
  },
  {
   "cell_type": "markdown",
   "id": "bee93ae5",
   "metadata": {},
   "source": [
    "## 常用的 `ndarray` 操作\n",
    "\n",
    "我們常對 `ndarray` 進行的操作有調整外型、合併以及分割。使用 `ndarray` 的 `reshape()` 方法調整成指定外型，在其他維度已經決定時可以方便地指定 -1 給最後一個維度；使用 `ndarray` 的 `ravel()` 方法打平成一維。"
   ]
  },
  {
   "cell_type": "code",
   "execution_count": 9,
   "id": "7773a198",
   "metadata": {},
   "outputs": [
    {
     "name": "stdout",
     "output_type": "stream",
     "text": [
      "[ 1  2  3  4  5  6  7  8  9 10 11 12]\n",
      "[[ 1  2  3  4]\n",
      " [ 5  6  7  8]\n",
      " [ 9 10 11 12]]\n",
      "[[ 1  2  3  4]\n",
      " [ 5  6  7  8]\n",
      " [ 9 10 11 12]]\n",
      "[[ 1  2  3  4]\n",
      " [ 5  6  7  8]\n",
      " [ 9 10 11 12]]\n",
      "[ 1  2  3  4  5  6  7  8  9 10 11 12]\n"
     ]
    }
   ],
   "source": [
    "array_range = np.arange(1, 13)\n",
    "print(array_range) # (12,)\n",
    "print(array_range.reshape(3, 4))  # (3, 4)\n",
    "print(array_range.reshape(3, -1)) # (3, 4)\n",
    "print(array_range.reshape(-1, 4)) # (3, 4)\n",
    "print(array_range.reshape(3, 4).ravel()) # (12,)"
   ]
  },
  {
   "cell_type": "markdown",
   "id": "a744b584",
   "metadata": {},
   "source": [
    "合併操作能夠透過 `np.concatenate()` 函數達成，預設為垂直方向的合併（增加列數），指定參數 axis=1 則能夠調整為水平方向的合併（增加欄位）。"
   ]
  },
  {
   "cell_type": "code",
   "execution_count": 10,
   "id": "89db430a",
   "metadata": {},
   "outputs": [
    {
     "name": "stdout",
     "output_type": "stream",
     "text": [
      "[[1 2]\n",
      " [3 4]\n",
      " [5 6]\n",
      " [7 8]]\n",
      "[[1 2 5 6]\n",
      " [3 4 7 8]]\n"
     ]
    }
   ],
   "source": [
    "array_a = np.arange(1, 5).reshape(2, 2)\n",
    "array_b = np.arange(5, 9).reshape(2, 2)\n",
    "print(np.concatenate((array_a, array_b)))\n",
    "print(np.concatenate((array_a, array_b), axis=1))"
   ]
  },
  {
   "cell_type": "markdown",
   "id": "b23f794c",
   "metadata": {},
   "source": [
    "分割操作能夠透過 `np.split()` 函數達成，預設為垂直方向的分割，指定參數 axis=1 則能夠調整為水平方向的分割。"
   ]
  },
  {
   "cell_type": "code",
   "execution_count": 11,
   "id": "1db54105",
   "metadata": {},
   "outputs": [
    {
     "name": "stdout",
     "output_type": "stream",
     "text": [
      "[[0 1]\n",
      " [2 3]\n",
      " [4 5]\n",
      " [6 7]\n",
      " [8 9]]\n",
      "[[10 11]\n",
      " [12 13]\n",
      " [14 15]\n",
      " [16 17]\n",
      " [18 19]]\n",
      "[[ 0]\n",
      " [ 2]\n",
      " [ 4]\n",
      " [ 6]\n",
      " [ 8]\n",
      " [10]\n",
      " [12]\n",
      " [14]\n",
      " [16]\n",
      " [18]]\n",
      "[[ 1]\n",
      " [ 3]\n",
      " [ 5]\n",
      " [ 7]\n",
      " [ 9]\n",
      " [11]\n",
      " [13]\n",
      " [15]\n",
      " [17]\n",
      " [19]]\n"
     ]
    }
   ],
   "source": [
    "array_range = np.arange(20).reshape(-1, 2)\n",
    "upper_array, lower_array = np.split(array_range, 2)\n",
    "left_array, right_array = np.split(array_range, 2, axis=1)\n",
    "print(upper_array)\n",
    "print(lower_array)\n",
    "print(left_array)\n",
    "print(right_array)"
   ]
  },
  {
   "cell_type": "markdown",
   "id": "2bcc5ac4",
   "metadata": {},
   "source": [
    "## NumPy 的數值運算函數\n",
    "\n",
    "NumPy 提供非常豐富、能夠針對 `ndarray` 進行運算的通用函數、聚合函數。通用函數是具備向量化（Vectorized）特性的函數，接受固定數量、外型的輸入並對應相同數量、外型的輸出。"
   ]
  },
  {
   "cell_type": "code",
   "execution_count": 12,
   "id": "71488d00",
   "metadata": {},
   "outputs": [
    {
     "name": "stdout",
     "output_type": "stream",
     "text": [
      "[ 0  1  4  9 16 25 36 49 64 81]\n",
      "[1.00000000e+00 2.71828183e+00 7.38905610e+00 2.00855369e+01\n",
      " 5.45981500e+01 1.48413159e+02 4.03428793e+02 1.09663316e+03\n",
      " 2.98095799e+03 8.10308393e+03]\n"
     ]
    }
   ],
   "source": [
    "array_range = np.arange(10)\n",
    "print(np.power(array_range, 2))\n",
    "print(np.exp(array_range))"
   ]
  },
  {
   "cell_type": "markdown",
   "id": "7999c943",
   "metadata": {},
   "source": [
    "如果需要自行定義能夠對 `ndarray` 運算應用的通用函數，可以使用 `np.vectorize()` 函數將只能作用於純量的函數轉換為能作用於 `ndarray` 的通用函數。"
   ]
  },
  {
   "cell_type": "code",
   "execution_count": 13,
   "id": "ff62f787",
   "metadata": {},
   "outputs": [
    {
     "data": {
      "text/plain": [
       "array([False, False,  True,  True, False,  True, False,  True, False,\n",
       "       False])"
      ]
     },
     "execution_count": 13,
     "metadata": {},
     "output_type": "execute_result"
    }
   ],
   "source": [
    "def is_prime(x):\n",
    "    number_of_divisors = 0\n",
    "    for integer in range(1, x + 1):\n",
    "        if x % integer == 0:\n",
    "            number_of_divisors += 1\n",
    "    return number_of_divisors == 2\n",
    "vectorized_is_prime = np.vectorize(is_prime)\n",
    "vectorized_is_prime(np.arange(10))"
   ]
  },
  {
   "cell_type": "markdown",
   "id": "d9ecf191",
   "metadata": {},
   "source": [
    "聚合函數則是能夠將多個資料值輸入摘要為單一值輸出的函數，在使用 NumPy 的聚合函數時有兩個值得注意的特性：可以沿指定的軸（axis）進行聚合、針對含有 `np.nan`（Not a Number）的 `ndarray` 有相對應名稱的聚合函數可以運算。"
   ]
  },
  {
   "cell_type": "code",
   "execution_count": 14,
   "id": "4a56ad63",
   "metadata": {},
   "outputs": [
    {
     "name": "stdout",
     "output_type": "stream",
     "text": [
      "120.0\n",
      "[18. 21. 24. 27. 30.]\n",
      "[15. 40. 65.]\n",
      "[[ 1.  2.  3.  4.  5.]\n",
      " [ 6.  7.  8.  9. 10.]\n",
      " [11. 12. 13. 14. nan]]\n",
      "nan\n",
      "105.0\n"
     ]
    }
   ],
   "source": [
    "# Aggregate along specific axis\n",
    "array_range = np.arange(1, 16, dtype=float).reshape(3, 5)\n",
    "print(np.sum(array_range))\n",
    "print(np.sum(array_range, axis=0))\n",
    "print(np.sum(array_range, axis=1))\n",
    "# Similar function names for array with np.nan\n",
    "array_range[2, 4] = np.nan\n",
    "print(array_range)\n",
    "print(np.sum(array_range))\n",
    "print(np.nansum(array_range))"
   ]
  },
  {
   "cell_type": "markdown",
   "id": "cbdcb7ae",
   "metadata": {},
   "source": [
    "入門 NumPy 之後，我們就能夠在下次的電子報中透過 `ndarray` 認識線性代數最重要的內容：矩陣運算。在認識了 NumPy 的核心功能以及主要應用場景之後，第三十三週約維安計畫：NumPy 來到尾聲，希望您也和我一樣期待下一篇文章。\n",
    "\n",
    "對於這篇文章有什麼想法呢？喜歡😻、留言🙋‍♂️或者分享🙌"
   ]
  }
 ],
 "metadata": {
  "kernelspec": {
   "display_name": "Python 3 (ipykernel)",
   "language": "python",
   "name": "python3"
  },
  "language_info": {
   "codemirror_mode": {
    "name": "ipython",
    "version": 3
   },
   "file_extension": ".py",
   "mimetype": "text/x-python",
   "name": "python",
   "nbconvert_exporter": "python",
   "pygments_lexer": "ipython3",
   "version": "3.9.16"
  }
 },
 "nbformat": 4,
 "nbformat_minor": 5
}
